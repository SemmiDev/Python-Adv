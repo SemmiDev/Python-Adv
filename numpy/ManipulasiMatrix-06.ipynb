{
 "cells": [
  {
   "cell_type": "code",
   "execution_count": 3,
   "metadata": {},
   "outputs": [],
   "source": [
    "import numpy as np"
   ]
  },
  {
   "cell_type": "code",
   "execution_count": 16,
   "metadata": {},
   "outputs": [
    {
     "name": "stdout",
     "output_type": "stream",
     "text": [
      "matrix a = \n",
      " [[1 2 3]\n",
      " [4 5 6]]\n",
      "ukuran matrix a adalah (baris,kolom) = \n",
      " (2, 3)\n",
      "transpose matrix dari a = \n",
      " [[1 4]\n",
      " [2 5]\n",
      " [3 6]]\n",
      "transpose matrix dari a = \n",
      " [[1 4]\n",
      " [2 5]\n",
      " [3 6]]\n",
      "transpose matrix dari a = \n",
      " [[1 4]\n",
      " [2 5]\n",
      " [3 6]]\n",
      "[[1 2 3]\n",
      " [4 5 6]]\n",
      "flatten matrix a = \n",
      " [1 2 3 4 5 6]\n",
      "flatten matrix a = \n",
      " [1 2 3 4 5 6]\n",
      "reshape matrix a = \n",
      " [[1 2]\n",
      " [3 4]\n",
      " [5 6]]\n",
      "reshape matrix a = \n",
      " [[1]\n",
      " [2]\n",
      " [3]\n",
      " [4]\n",
      " [5]\n",
      " [6]]\n",
      "resize matrix a = \n",
      " [[1 2]\n",
      " [3 4]\n",
      " [5 6]]\n"
     ]
    }
   ],
   "source": [
    "a = np.array(([1,2,3],\n",
    "              [4,5,6]))\n",
    "# show \n",
    "print(f'matrix a = \\n {a}')\n",
    "\n",
    "# ukuran \n",
    "print(f'ukuran matrix a adalah (baris,kolom) = \\n {a.shape}')\n",
    "\n",
    "# transpose matrix cara 1\n",
    "print(f'transpose matrix dari a = \\n {a.transpose()}')\n",
    "# transpose matrix cara 2\n",
    "print(f'transpose matrix dari a = \\n {np.transpose(a)}')\n",
    "# transpose matrix cara 3\n",
    "print(f'transpose matrix dari a = \\n {a.T}')\n",
    "\n",
    "# matrix a tidak berubah ye\n",
    "print(a)\n",
    "\n",
    "# flatten array / vector baris\n",
    "print(f'flatten matrix a = \\n {a.ravel()}')\n",
    "print(f'flatten matrix a = \\n {np.ravel(a)}')\n",
    "\n",
    "# reshape matrix. harus sesuai dengan jumlah component (3*2 = 6) reshape harus 6 juga\n",
    "# perbedaan dengan transpose, kalau reshape dia potong dari flatten secara berurutan,\n",
    "# bukan seperti transpose, baris -> kolom dan sebaliknya\n",
    "print(f'reshape matrix a = \\n {a.reshape(3,2)}')\n",
    "print(f'reshape matrix a = \\n {a.reshape(6,1)}')\n",
    "\n",
    "# resize matrix\n",
    "# why none values? resize merubah shape matrix a nya.\n",
    "# tidak seperti method lain yg hanya \n",
    "# singgah, oprek2, eh lalu pergi :(\n",
    "a.resize(3,2)\n",
    "print(f'resize matrix a = \\n {a}')"
   ]
  },
  {
   "cell_type": "code",
   "execution_count": null,
   "metadata": {},
   "outputs": [],
   "source": []
  }
 ],
 "metadata": {
  "kernelspec": {
   "display_name": "Python 3",
   "language": "python",
   "name": "python3"
  },
  "language_info": {
   "codemirror_mode": {
    "name": "ipython",
    "version": 3
   },
   "file_extension": ".py",
   "mimetype": "text/x-python",
   "name": "python",
   "nbconvert_exporter": "python",
   "pygments_lexer": "ipython3",
   "version": "3.7.6"
  }
 },
 "nbformat": 4,
 "nbformat_minor": 4
}
