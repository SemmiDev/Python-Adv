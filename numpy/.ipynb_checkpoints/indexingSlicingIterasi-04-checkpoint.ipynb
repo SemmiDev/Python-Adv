{
 "cells": [
  {
   "cell_type": "code",
   "execution_count": 1,
   "metadata": {},
   "outputs": [],
   "source": [
    "import numpy as np"
   ]
  },
  {
   "cell_type": "code",
   "execution_count": 2,
   "metadata": {},
   "outputs": [
    {
     "name": "stdout",
     "output_type": "stream",
     "text": [
      "[ 0  1  4  9 16 25 36 49 64 81]\n"
     ]
    }
   ],
   "source": [
    "# 10 buah dan kuadratkan\n",
    "a = np.arange(10) ** 2\n",
    "print(a)"
   ]
  },
  {
   "cell_type": "code",
   "execution_count": 4,
   "metadata": {},
   "outputs": [
    {
     "name": "stdout",
     "output_type": "stream",
     "text": [
      "Element ke-1 ->  0\n",
      "Element ke-7 ->  36\n",
      "Element terakhir ->  81\n"
     ]
    }
   ],
   "source": [
    "# ambil nilai\n",
    "print('Element ke-1 -> ', a[0])\n",
    "print('Element ke-7 -> ', a[6])\n",
    "print('Element terakhir -> ', a[-1])"
   ]
  },
  {
   "cell_type": "code",
   "execution_count": 8,
   "metadata": {},
   "outputs": [
    {
     "name": "stdout",
     "output_type": "stream",
     "text": [
      "1 - 6 =>  [ 0  1  4  9 16 25]\n",
      "4 - akhir =>  [ 9 16 25 36 49 64 81]\n",
      "awal - 5 =>  [ 0  1  4  9 16]\n"
     ]
    }
   ],
   "source": [
    "# sliing (ambil rentang array)\n",
    "# exclusive\n",
    "print('1 - 6 => ', a[0:6])\n",
    "print('4 - akhir => ', a[3:])\n",
    "print('awal - 5 => ', a[:5])"
   ]
  },
  {
   "cell_type": "code",
   "execution_count": 9,
   "metadata": {},
   "outputs": [
    {
     "name": "stdout",
     "output_type": "stream",
     "text": [
      "values -> 0\n",
      "values -> 1\n",
      "values -> 4\n",
      "values -> 9\n",
      "values -> 16\n",
      "values -> 25\n",
      "values -> 36\n",
      "values -> 49\n",
      "values -> 64\n",
      "values -> 81\n"
     ]
    }
   ],
   "source": [
    "# for / iterasi\n",
    "for i in a:\n",
    "    print(f'values -> {i}')"
   ]
  },
  {
   "cell_type": "code",
   "execution_count": null,
   "metadata": {},
   "outputs": [],
   "source": []
  }
 ],
 "metadata": {
  "kernelspec": {
   "display_name": "Python 3",
   "language": "python",
   "name": "python3"
  },
  "language_info": {
   "codemirror_mode": {
    "name": "ipython",
    "version": 3
   },
   "file_extension": ".py",
   "mimetype": "text/x-python",
   "name": "python",
   "nbconvert_exporter": "python",
   "pygments_lexer": "ipython3",
   "version": "3.7.6"
  }
 },
 "nbformat": 4,
 "nbformat_minor": 4
}
