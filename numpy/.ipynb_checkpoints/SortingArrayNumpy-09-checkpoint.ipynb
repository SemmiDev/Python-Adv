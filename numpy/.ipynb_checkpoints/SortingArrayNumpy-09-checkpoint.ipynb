{
 "cells": [
  {
   "cell_type": "code",
   "execution_count": 1,
   "metadata": {},
   "outputs": [],
   "source": [
    "import numpy as np"
   ]
  },
  {
   "cell_type": "code",
   "execution_count": 13,
   "metadata": {},
   "outputs": [
    {
     "name": "stdout",
     "output_type": "stream",
     "text": [
      "array = [[  3.   0. -18. -11. -12.   1.]]\n",
      "nilai max a = 3.0\n",
      "posisi max a yaitu index ke = 0\n",
      "nilai min a = -18.0\n",
      "posisi min a yaitu index ke = 2\n"
     ]
    }
   ],
   "source": [
    "a = np.floor(np.random.randn(1,6)*10)\n",
    "print(f'array = {a}')\n",
    "print(f'nilai max a = {a.max()}')\n",
    "print(f'posisi max a yaitu index ke = {a.argmax()}')\n",
    "print(f'nilai min a = {a.min()}')\n",
    "print(f'posisi min a yaitu index ke = {a.argmin()}')"
   ]
  },
  {
   "cell_type": "code",
   "execution_count": 15,
   "metadata": {},
   "outputs": [
    {
     "name": "stdout",
     "output_type": "stream",
     "text": [
      "[[-18. -12. -11.   0.   1.   3.]]\n",
      "[[2 4 3 1 5 0]]\n"
     ]
    }
   ],
   "source": [
    "# sort\n",
    "print(np.sort(a))\n",
    "# output -> args / index\n",
    "print(np.argsort(a))"
   ]
  },
  {
   "cell_type": "code",
   "execution_count": 16,
   "metadata": {},
   "outputs": [
    {
     "name": "stdout",
     "output_type": "stream",
     "text": [
      "nilai max b = 3.0\n",
      "posisi max b yaitu index ke = 2\n",
      "nilai min b = -10.0\n",
      "posisi min b yaitu index ke = 1\n",
      "[[-10.   1.]\n",
      " [ -7.   3.]]\n",
      "[[1 0]\n",
      " [1 0]]\n"
     ]
    }
   ],
   "source": [
    "# dua dimensi\n",
    "b = np.floor(np.random.randn(2,2)*10)\n",
    "# cara ngitung urutan index nya yaitu sebaris full,kemudian baris 2 full, ...\n",
    "print(f'nilai max b = {b.max()}')\n",
    "print(f'posisi max b yaitu index ke = {b.argmax()}')\n",
    "print(f'nilai min b = {b.min()}')\n",
    "print(f'posisi min b yaitu index ke = {b.argmin()}')\n",
    "# sorting nya perbaris ye\n",
    "print(np.sort(b))\n",
    "# output -> args / index\n",
    "print(np.argsort(b))"
   ]
  },
  {
   "cell_type": "code",
   "execution_count": 19,
   "metadata": {},
   "outputs": [
    {
     "name": "stdout",
     "output_type": "stream",
     "text": [
      "[(b'ucup',  70) (b'otong', 200) (b'gusnur', 160) (b'dandi', 120)]\n",
      "[(b'ucup',  70) (b'dandi', 120) (b'gusnur', 160) (b'otong', 200)]\n",
      "[(b'dandi', 120) (b'gusnur', 160) (b'otong', 200) (b'ucup',  70)]\n"
     ]
    }
   ],
   "source": [
    "# more powerfull\n",
    "# multitype\n",
    "dtipe = [('name','S10'),('tall',int)]\n",
    "data = [\n",
    "    ('ucup',70),\n",
    "    ('otong',200),\n",
    "    ('gusnur',160),\n",
    "    ('dandi',120)\n",
    "]\n",
    "\n",
    "a = np.array(data,dtype = dtipe)\n",
    "print(a)\n",
    "print(np.sort(a, order='tall'))\n",
    "print(np.sort(a, order='name'))"
   ]
  },
  {
   "cell_type": "code",
   "execution_count": null,
   "metadata": {},
   "outputs": [],
   "source": []
  }
 ],
 "metadata": {
  "kernelspec": {
   "display_name": "Python 3",
   "language": "python",
   "name": "python3"
  },
  "language_info": {
   "codemirror_mode": {
    "name": "ipython",
    "version": 3
   },
   "file_extension": ".py",
   "mimetype": "text/x-python",
   "name": "python",
   "nbconvert_exporter": "python",
   "pygments_lexer": "ipython3",
   "version": "3.7.6"
  }
 },
 "nbformat": 4,
 "nbformat_minor": 4
}
