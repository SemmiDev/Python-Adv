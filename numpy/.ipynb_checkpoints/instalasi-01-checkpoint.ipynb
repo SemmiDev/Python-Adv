{
 "cells": [
  {
   "cell_type": "code",
   "execution_count": 8,
   "metadata": {},
   "outputs": [
    {
     "name": "stdout",
     "output_type": "stream",
     "text": [
      "numpy array gak ada tanda commanya ->  [1 2 3 4]\n",
      "list biasa ada comma nya -> [1, 2, 3, 4]\n"
     ]
    }
   ],
   "source": [
    "# membuat environtment = python3.8 -n venv namaEnvirontmentTerserah\n",
    "# source namaEnv/bin/activate\n",
    "import numpy as np\n",
    "\n",
    "a = np.array([1,2,3,4])\n",
    "b = [1,2,3,4]\n",
    "print('numpy array gak ada tanda commanya -> ',a)\n",
    "print('list biasa ada comma nya ->' ,b)\n",
    "\n"
   ]
  },
  {
   "cell_type": "code",
   "execution_count": 9,
   "metadata": {},
   "outputs": [
    {
     "name": "stdout",
     "output_type": "stream",
     "text": [
      "[2 3 4 5]\n",
      "[1, 2, 3, 4, 1]\n"
     ]
    }
   ],
   "source": [
    "# perbedaan\n",
    "# kalau numpy array jika di tambah satu maka semua component di dalamnya akan ditambah\n",
    "a = a + 1\n",
    "# list biasa untuk nambah data, pakai kurung array ya []\n",
    "b = b + [1]\n",
    "\n",
    "print(a)\n",
    "print(b)"
   ]
  },
  {
   "cell_type": "code",
   "execution_count": null,
   "metadata": {},
   "outputs": [],
   "source": []
  }
 ],
 "metadata": {
  "kernelspec": {
   "display_name": "Python 3",
   "language": "python",
   "name": "python3"
  },
  "language_info": {
   "codemirror_mode": {
    "name": "ipython",
    "version": 3
   },
   "file_extension": ".py",
   "mimetype": "text/x-python",
   "name": "python",
   "nbconvert_exporter": "python",
   "pygments_lexer": "ipython3",
   "version": "3.7.6"
  }
 },
 "nbformat": 4,
 "nbformat_minor": 4
}
