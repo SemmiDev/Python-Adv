{
 "cells": [
  {
   "cell_type": "code",
   "execution_count": 1,
   "metadata": {},
   "outputs": [],
   "source": [
    "import numpy as np"
   ]
  },
  {
   "cell_type": "code",
   "execution_count": 7,
   "metadata": {},
   "outputs": [
    {
     "name": "stdout",
     "output_type": "stream",
     "text": [
      "5\n",
      "[ 0  0 -3]\n",
      "[0 0 3]\n"
     ]
    }
   ],
   "source": [
    "# perkalian dot : result -> skalar => |A| . |b| cos teta(sudut)\n",
    "a = np.array([1,3]) # 2 dimensi atau 3 atau lebih\n",
    "b = np.array([2,1])\n",
    "c = np.dot(a,b) \n",
    "print(c)\n",
    "# perkalian cross (hasil berdasarkan arah) : a-> . b -> = |a| . |b| sin teta(sudut)\n",
    "# 2(posisi atas) . 3(posisi bawah) sin 30 = 6 . 0.5 = 3 (arah -z karena kebawah)\n",
    "a = np.array([1,2,0])\n",
    "b = np.array([2,1,0])\n",
    "c1 = np.cross(a,b)\n",
    "c2 = np.cross(b,a)\n",
    "print(c1)# hasilnya minus\n",
    "print(c2)\n"
   ]
  },
  {
   "cell_type": "code",
   "execution_count": null,
   "metadata": {},
   "outputs": [],
   "source": []
  }
 ],
 "metadata": {
  "kernelspec": {
   "display_name": "Python 3",
   "language": "python",
   "name": "python3"
  },
  "language_info": {
   "codemirror_mode": {
    "name": "ipython",
    "version": 3
   },
   "file_extension": ".py",
   "mimetype": "text/x-python",
   "name": "python",
   "nbconvert_exporter": "python",
   "pygments_lexer": "ipython3",
   "version": "3.7.6"
  }
 },
 "nbformat": 4,
 "nbformat_minor": 4
}
