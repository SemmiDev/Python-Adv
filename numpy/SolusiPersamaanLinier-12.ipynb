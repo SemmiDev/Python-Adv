{
 "cells": [
  {
   "cell_type": "code",
   "execution_count": 1,
   "metadata": {},
   "outputs": [],
   "source": [
    "import numpy as np"
   ]
  },
  {
   "cell_type": "code",
   "execution_count": 5,
   "metadata": {},
   "outputs": [
    {
     "name": "stdout",
     "output_type": "stream",
     "text": [
      "[4. 5.]\n",
      "[4. 5.]\n"
     ]
    }
   ],
   "source": [
    "# y = a.x || x1 = 4 and x2 = 5\n",
    "# y1 = 2.x1 + 3.x2 = 2.4 + 3.5 = 23(y1)\n",
    "# y2 = x1 + 2.x2 = 4 + 2.5 = 14(y2)\n",
    "# convert -> matrix\n",
    "# [y1] = [2 3][x1] = [2 3][4]\n",
    "# [y2] = [1 2][y1] = [1 2][5]\n",
    "# menyelesaikan permasalahan liniar\n",
    "# problem yg ingin diselesaikan, mencari nilai x1 dan x2 jika y1 sama y2 sudah diketahui nilainya\n",
    "A = np.array([(2,3),(1,2)])\n",
    "Y = np.array([23,14])\n",
    "A_inv = np.linalg.inv(A)\n",
    "X1 = np.dot(A_inv,Y)\n",
    "print(X)\n",
    "# cara lain\n",
    "X2 = np.linalg.solve(A,Y)\n",
    "print(X2)\n"
   ]
  },
  {
   "cell_type": "code",
   "execution_count": null,
   "metadata": {},
   "outputs": [],
   "source": []
  }
 ],
 "metadata": {
  "kernelspec": {
   "display_name": "Python 3",
   "language": "python",
   "name": "python3"
  },
  "language_info": {
   "codemirror_mode": {
    "name": "ipython",
    "version": 3
   },
   "file_extension": ".py",
   "mimetype": "text/x-python",
   "name": "python",
   "nbconvert_exporter": "python",
   "pygments_lexer": "ipython3",
   "version": "3.7.6"
  }
 },
 "nbformat": 4,
 "nbformat_minor": 4
}
