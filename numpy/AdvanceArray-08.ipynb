{
 "cells": [
  {
   "cell_type": "code",
   "execution_count": 3,
   "metadata": {},
   "outputs": [],
   "source": [
    "import numpy as np"
   ]
  },
  {
   "cell_type": "code",
   "execution_count": 13,
   "metadata": {},
   "outputs": [
    {
     "name": "stdout",
     "output_type": "stream",
     "text": [
      "[(b'sam',  180) (b'otong',  300) (b'gusnur',  700) (b'ayatullah', 1000)]\n",
      "(b'sam', 180)\n"
     ]
    }
   ],
   "source": [
    "# membuat matrix dengan tipe data tertentu\n",
    "a = np.array(([1,2,3],[4,5,6]), dtype = float)\n",
    "a = np.array(([1,2,3],[4,5,6]), dtype = bool)\n",
    "# print(a)\n",
    "\n",
    "# membuat array dengan menggunakan function\n",
    "def kuadrat(baris,kolom):\n",
    "    return kolom**2\n",
    "\n",
    "def jumlah(baris,kolom):\n",
    "    return (baris + kolom)\n",
    "\n",
    "b = np.fromfunction(kuadrat, (1,10), dtype = int)\n",
    "c = np.fromfunction(jumlah, (4,4), dtype = float)\n",
    "# print(c)\n",
    "\n",
    "# membuat array atau matrix dengan iterasi\n",
    "iterable = (x*x for x in range(5))\n",
    "d = np.fromiter(iterable, dtype = int)\n",
    "# print(d)\n",
    "\n",
    "# multitype array\n",
    "dtipe = [('nama', 'S255'), ('tinggi', int)]\n",
    "data = [('sam', 180),\n",
    "        ('otong', 300),\n",
    "        ('gusnur', 170),\n",
    "        ('ayatullah', 200)]\n",
    "e = np.array(data,dtype = dtipe)\n",
    "print(e)\n",
    "print(e[0])"
   ]
  },
  {
   "cell_type": "code",
   "execution_count": null,
   "metadata": {},
   "outputs": [],
   "source": []
  }
 ],
 "metadata": {
  "kernelspec": {
   "display_name": "Python 3",
   "language": "python",
   "name": "python3"
  },
  "language_info": {
   "codemirror_mode": {
    "name": "ipython",
    "version": 3
   },
   "file_extension": ".py",
   "mimetype": "text/x-python",
   "name": "python",
   "nbconvert_exporter": "python",
   "pygments_lexer": "ipython3",
   "version": "3.7.6"
  }
 },
 "nbformat": 4,
 "nbformat_minor": 4
}
