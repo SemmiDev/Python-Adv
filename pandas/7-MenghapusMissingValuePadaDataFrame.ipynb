{
 "cells": [
  {
   "cell_type": "code",
   "execution_count": 1,
   "metadata": {},
   "outputs": [],
   "source": [
    "import pandas as pd"
   ]
  },
  {
   "cell_type": "code",
   "execution_count": 4,
   "metadata": {},
   "outputs": [
    {
     "data": {
      "text/html": [
       "<div>\n",
       "<style scoped>\n",
       "    .dataframe tbody tr th:only-of-type {\n",
       "        vertical-align: middle;\n",
       "    }\n",
       "\n",
       "    .dataframe tbody tr th {\n",
       "        vertical-align: top;\n",
       "    }\n",
       "\n",
       "    .dataframe thead th {\n",
       "        text-align: right;\n",
       "    }\n",
       "</style>\n",
       "<table border=\"1\" class=\"dataframe\">\n",
       "  <thead>\n",
       "    <tr style=\"text-align: right;\">\n",
       "      <th></th>\n",
       "      <th>index</th>\n",
       "      <th>A</th>\n",
       "      <th>B</th>\n",
       "      <th>C</th>\n",
       "      <th>D</th>\n",
       "    </tr>\n",
       "  </thead>\n",
       "  <tbody>\n",
       "    <tr>\n",
       "      <th>0</th>\n",
       "      <td>RoOzQJhSWM</td>\n",
       "      <td>1.142552</td>\n",
       "      <td>-1.753076</td>\n",
       "      <td>-0.439738</td>\n",
       "      <td>0.418917</td>\n",
       "    </tr>\n",
       "    <tr>\n",
       "      <th>1</th>\n",
       "      <td>TuYhKJmxIh</td>\n",
       "      <td>NaN</td>\n",
       "      <td>1.167311</td>\n",
       "      <td>NaN</td>\n",
       "      <td>0.011083</td>\n",
       "    </tr>\n",
       "    <tr>\n",
       "      <th>2</th>\n",
       "      <td>KV5YS1JIjU</td>\n",
       "      <td>1.220100</td>\n",
       "      <td>1.102166</td>\n",
       "      <td>-0.141936</td>\n",
       "      <td>NaN</td>\n",
       "    </tr>\n",
       "    <tr>\n",
       "      <th>3</th>\n",
       "      <td>JwdTegJeTm</td>\n",
       "      <td>0.381409</td>\n",
       "      <td>1.302171</td>\n",
       "      <td>2.243797</td>\n",
       "      <td>3.002004</td>\n",
       "    </tr>\n",
       "    <tr>\n",
       "      <th>4</th>\n",
       "      <td>IHOy7BZh2e</td>\n",
       "      <td>0.969533</td>\n",
       "      <td>-0.864470</td>\n",
       "      <td>-0.107030</td>\n",
       "      <td>-1.658763</td>\n",
       "    </tr>\n",
       "  </tbody>\n",
       "</table>\n",
       "</div>"
      ],
      "text/plain": [
       "        index         A         B         C         D\n",
       "0  RoOzQJhSWM  1.142552 -1.753076 -0.439738  0.418917\n",
       "1  TuYhKJmxIh       NaN  1.167311       NaN  0.011083\n",
       "2  KV5YS1JIjU  1.220100  1.102166 -0.141936       NaN\n",
       "3  JwdTegJeTm  0.381409  1.302171  2.243797  3.002004\n",
       "4  IHOy7BZh2e  0.969533 -0.864470 -0.107030 -1.658763"
      ]
     },
     "execution_count": 4,
     "metadata": {},
     "output_type": "execute_result"
    }
   ],
   "source": [
    "df = pd.util.testing.makeMissingDataframe().reset_index()\n",
    "df.head() # tampilkan 5 data"
   ]
  },
  {
   "cell_type": "code",
   "execution_count": 5,
   "metadata": {},
   "outputs": [
    {
     "data": {
      "text/html": [
       "<div>\n",
       "<style scoped>\n",
       "    .dataframe tbody tr th:only-of-type {\n",
       "        vertical-align: middle;\n",
       "    }\n",
       "\n",
       "    .dataframe tbody tr th {\n",
       "        vertical-align: top;\n",
       "    }\n",
       "\n",
       "    .dataframe thead th {\n",
       "        text-align: right;\n",
       "    }\n",
       "</style>\n",
       "<table border=\"1\" class=\"dataframe\">\n",
       "  <thead>\n",
       "    <tr style=\"text-align: right;\">\n",
       "      <th></th>\n",
       "      <th>Z</th>\n",
       "      <th>A</th>\n",
       "      <th>B</th>\n",
       "      <th>C</th>\n",
       "      <th>D</th>\n",
       "    </tr>\n",
       "  </thead>\n",
       "  <tbody>\n",
       "    <tr>\n",
       "      <th>0</th>\n",
       "      <td>RoOzQJhSWM</td>\n",
       "      <td>1.142552</td>\n",
       "      <td>-1.753076</td>\n",
       "      <td>-0.439738</td>\n",
       "      <td>0.418917</td>\n",
       "    </tr>\n",
       "    <tr>\n",
       "      <th>1</th>\n",
       "      <td>TuYhKJmxIh</td>\n",
       "      <td>NaN</td>\n",
       "      <td>1.167311</td>\n",
       "      <td>NaN</td>\n",
       "      <td>0.011083</td>\n",
       "    </tr>\n",
       "    <tr>\n",
       "      <th>2</th>\n",
       "      <td>KV5YS1JIjU</td>\n",
       "      <td>1.220100</td>\n",
       "      <td>1.102166</td>\n",
       "      <td>-0.141936</td>\n",
       "      <td>NaN</td>\n",
       "    </tr>\n",
       "    <tr>\n",
       "      <th>3</th>\n",
       "      <td>JwdTegJeTm</td>\n",
       "      <td>0.381409</td>\n",
       "      <td>1.302171</td>\n",
       "      <td>2.243797</td>\n",
       "      <td>3.002004</td>\n",
       "    </tr>\n",
       "    <tr>\n",
       "      <th>4</th>\n",
       "      <td>IHOy7BZh2e</td>\n",
       "      <td>0.969533</td>\n",
       "      <td>-0.864470</td>\n",
       "      <td>-0.107030</td>\n",
       "      <td>-1.658763</td>\n",
       "    </tr>\n",
       "  </tbody>\n",
       "</table>\n",
       "</div>"
      ],
      "text/plain": [
       "            Z         A         B         C         D\n",
       "0  RoOzQJhSWM  1.142552 -1.753076 -0.439738  0.418917\n",
       "1  TuYhKJmxIh       NaN  1.167311       NaN  0.011083\n",
       "2  KV5YS1JIjU  1.220100  1.102166 -0.141936       NaN\n",
       "3  JwdTegJeTm  0.381409  1.302171  2.243797  3.002004\n",
       "4  IHOy7BZh2e  0.969533 -0.864470 -0.107030 -1.658763"
      ]
     },
     "execution_count": 5,
     "metadata": {},
     "output_type": "execute_result"
    }
   ],
   "source": [
    "df = df.rename(columns={'index' : 'Z'}) # rename column name\n",
    "df.head()"
   ]
  },
  {
   "cell_type": "code",
   "execution_count": 6,
   "metadata": {},
   "outputs": [],
   "source": [
    "df_backup = df.copy(deep=True) # copy ke dalama df_backup"
   ]
  },
  {
   "cell_type": "code",
   "execution_count": 7,
   "metadata": {},
   "outputs": [
    {
     "data": {
      "text/html": [
       "<div>\n",
       "<style scoped>\n",
       "    .dataframe tbody tr th:only-of-type {\n",
       "        vertical-align: middle;\n",
       "    }\n",
       "\n",
       "    .dataframe tbody tr th {\n",
       "        vertical-align: top;\n",
       "    }\n",
       "\n",
       "    .dataframe thead th {\n",
       "        text-align: right;\n",
       "    }\n",
       "</style>\n",
       "<table border=\"1\" class=\"dataframe\">\n",
       "  <thead>\n",
       "    <tr style=\"text-align: right;\">\n",
       "      <th></th>\n",
       "      <th>Z</th>\n",
       "    </tr>\n",
       "  </thead>\n",
       "  <tbody>\n",
       "    <tr>\n",
       "      <th>0</th>\n",
       "      <td>RoOzQJhSWM</td>\n",
       "    </tr>\n",
       "    <tr>\n",
       "      <th>1</th>\n",
       "      <td>TuYhKJmxIh</td>\n",
       "    </tr>\n",
       "    <tr>\n",
       "      <th>2</th>\n",
       "      <td>KV5YS1JIjU</td>\n",
       "    </tr>\n",
       "    <tr>\n",
       "      <th>3</th>\n",
       "      <td>JwdTegJeTm</td>\n",
       "    </tr>\n",
       "    <tr>\n",
       "      <th>4</th>\n",
       "      <td>IHOy7BZh2e</td>\n",
       "    </tr>\n",
       "  </tbody>\n",
       "</table>\n",
       "</div>"
      ],
      "text/plain": [
       "            Z\n",
       "0  RoOzQJhSWM\n",
       "1  TuYhKJmxIh\n",
       "2  KV5YS1JIjU\n",
       "3  JwdTegJeTm\n",
       "4  IHOy7BZh2e"
      ]
     },
     "execution_count": 7,
     "metadata": {},
     "output_type": "execute_result"
    }
   ],
   "source": [
    "# drop setiap kolom yg mengandung missing values\n",
    "# axiz => drop kolom manapun yg mengandung missing value \n",
    "df = df.dropna(axis='columns')\n",
    "df.head()"
   ]
  },
  {
   "cell_type": "code",
   "execution_count": 8,
   "metadata": {},
   "outputs": [
    {
     "data": {
      "text/html": [
       "<div>\n",
       "<style scoped>\n",
       "    .dataframe tbody tr th:only-of-type {\n",
       "        vertical-align: middle;\n",
       "    }\n",
       "\n",
       "    .dataframe tbody tr th {\n",
       "        vertical-align: top;\n",
       "    }\n",
       "\n",
       "    .dataframe thead th {\n",
       "        text-align: right;\n",
       "    }\n",
       "</style>\n",
       "<table border=\"1\" class=\"dataframe\">\n",
       "  <thead>\n",
       "    <tr style=\"text-align: right;\">\n",
       "      <th></th>\n",
       "      <th>Z</th>\n",
       "      <th>A</th>\n",
       "      <th>B</th>\n",
       "      <th>C</th>\n",
       "      <th>D</th>\n",
       "    </tr>\n",
       "  </thead>\n",
       "  <tbody>\n",
       "    <tr>\n",
       "      <th>0</th>\n",
       "      <td>RoOzQJhSWM</td>\n",
       "      <td>1.142552</td>\n",
       "      <td>-1.753076</td>\n",
       "      <td>-0.439738</td>\n",
       "      <td>0.418917</td>\n",
       "    </tr>\n",
       "    <tr>\n",
       "      <th>3</th>\n",
       "      <td>JwdTegJeTm</td>\n",
       "      <td>0.381409</td>\n",
       "      <td>1.302171</td>\n",
       "      <td>2.243797</td>\n",
       "      <td>3.002004</td>\n",
       "    </tr>\n",
       "    <tr>\n",
       "      <th>4</th>\n",
       "      <td>IHOy7BZh2e</td>\n",
       "      <td>0.969533</td>\n",
       "      <td>-0.864470</td>\n",
       "      <td>-0.107030</td>\n",
       "      <td>-1.658763</td>\n",
       "    </tr>\n",
       "    <tr>\n",
       "      <th>5</th>\n",
       "      <td>l6nMQ5zQu5</td>\n",
       "      <td>0.060773</td>\n",
       "      <td>1.753238</td>\n",
       "      <td>-0.134278</td>\n",
       "      <td>-0.381331</td>\n",
       "    </tr>\n",
       "    <tr>\n",
       "      <th>7</th>\n",
       "      <td>JJL5ne6x30</td>\n",
       "      <td>2.080262</td>\n",
       "      <td>1.287017</td>\n",
       "      <td>0.477214</td>\n",
       "      <td>0.933987</td>\n",
       "    </tr>\n",
       "  </tbody>\n",
       "</table>\n",
       "</div>"
      ],
      "text/plain": [
       "            Z         A         B         C         D\n",
       "0  RoOzQJhSWM  1.142552 -1.753076 -0.439738  0.418917\n",
       "3  JwdTegJeTm  0.381409  1.302171  2.243797  3.002004\n",
       "4  IHOy7BZh2e  0.969533 -0.864470 -0.107030 -1.658763\n",
       "5  l6nMQ5zQu5  0.060773  1.753238 -0.134278 -0.381331\n",
       "7  JJL5ne6x30  2.080262  1.287017  0.477214  0.933987"
      ]
     },
     "execution_count": 8,
     "metadata": {},
     "output_type": "execute_result"
    }
   ],
   "source": [
    "# drop baris yg mengandung missing value\n",
    "df = df_backup.copy(deep=True)\n",
    "df = df.dropna(axis='rows')\n",
    "df.head()"
   ]
  },
  {
   "cell_type": "code",
   "execution_count": 9,
   "metadata": {},
   "outputs": [
    {
     "data": {
      "text/plain": [
       "Z    0.000000\n",
       "A    0.100000\n",
       "B    0.133333\n",
       "C    0.100000\n",
       "D    0.066667\n",
       "dtype: float64"
      ]
     },
     "execution_count": 9,
     "metadata": {},
     "output_type": "execute_result"
    }
   ],
   "source": [
    "# persentase missing value setiap kolom\n",
    "df = df_backup.copy(deep = True)\n",
    "df.isna().mean()"
   ]
  },
  {
   "cell_type": "code",
   "execution_count": 13,
   "metadata": {},
   "outputs": [
    {
     "data": {
      "text/html": [
       "<div>\n",
       "<style scoped>\n",
       "    .dataframe tbody tr th:only-of-type {\n",
       "        vertical-align: middle;\n",
       "    }\n",
       "\n",
       "    .dataframe tbody tr th {\n",
       "        vertical-align: top;\n",
       "    }\n",
       "\n",
       "    .dataframe thead th {\n",
       "        text-align: right;\n",
       "    }\n",
       "</style>\n",
       "<table border=\"1\" class=\"dataframe\">\n",
       "  <thead>\n",
       "    <tr style=\"text-align: right;\">\n",
       "      <th></th>\n",
       "      <th>Z</th>\n",
       "      <th>A</th>\n",
       "      <th>C</th>\n",
       "      <th>D</th>\n",
       "    </tr>\n",
       "  </thead>\n",
       "  <tbody>\n",
       "    <tr>\n",
       "      <th>0</th>\n",
       "      <td>RoOzQJhSWM</td>\n",
       "      <td>1.142552</td>\n",
       "      <td>-0.439738</td>\n",
       "      <td>0.418917</td>\n",
       "    </tr>\n",
       "    <tr>\n",
       "      <th>1</th>\n",
       "      <td>TuYhKJmxIh</td>\n",
       "      <td>NaN</td>\n",
       "      <td>NaN</td>\n",
       "      <td>0.011083</td>\n",
       "    </tr>\n",
       "    <tr>\n",
       "      <th>2</th>\n",
       "      <td>KV5YS1JIjU</td>\n",
       "      <td>1.220100</td>\n",
       "      <td>-0.141936</td>\n",
       "      <td>NaN</td>\n",
       "    </tr>\n",
       "    <tr>\n",
       "      <th>3</th>\n",
       "      <td>JwdTegJeTm</td>\n",
       "      <td>0.381409</td>\n",
       "      <td>2.243797</td>\n",
       "      <td>3.002004</td>\n",
       "    </tr>\n",
       "    <tr>\n",
       "      <th>4</th>\n",
       "      <td>IHOy7BZh2e</td>\n",
       "      <td>0.969533</td>\n",
       "      <td>-0.107030</td>\n",
       "      <td>-1.658763</td>\n",
       "    </tr>\n",
       "  </tbody>\n",
       "</table>\n",
       "</div>"
      ],
      "text/plain": [
       "            Z         A         C         D\n",
       "0  RoOzQJhSWM  1.142552 -0.439738  0.418917\n",
       "1  TuYhKJmxIh       NaN       NaN  0.011083\n",
       "2  KV5YS1JIjU  1.220100 -0.141936       NaN\n",
       "3  JwdTegJeTm  0.381409  2.243797  3.002004\n",
       "4  IHOy7BZh2e  0.969533 -0.107030 -1.658763"
      ]
     },
     "execution_count": 13,
     "metadata": {},
     "output_type": "execute_result"
    }
   ],
   "source": [
    "# setelah kita mengetahui persentase dari setiap kolom pada dataframe\n",
    "# maka kita bisa minimbang2 / threshold kolom mana yg sebaiknya dihapus (toleransi)\n",
    "treeshold = len(df) * 0.9 # persentase 90 persen\n",
    "df = df.dropna(thresh=treeshold, axis='columns')\n",
    "df.head()"
   ]
  },
  {
   "cell_type": "code",
   "execution_count": 14,
   "metadata": {},
   "outputs": [
    {
     "data": {
      "text/html": [
       "<div>\n",
       "<style scoped>\n",
       "    .dataframe tbody tr th:only-of-type {\n",
       "        vertical-align: middle;\n",
       "    }\n",
       "\n",
       "    .dataframe tbody tr th {\n",
       "        vertical-align: top;\n",
       "    }\n",
       "\n",
       "    .dataframe thead th {\n",
       "        text-align: right;\n",
       "    }\n",
       "</style>\n",
       "<table border=\"1\" class=\"dataframe\">\n",
       "  <thead>\n",
       "    <tr style=\"text-align: right;\">\n",
       "      <th></th>\n",
       "      <th>Z</th>\n",
       "      <th>A</th>\n",
       "      <th>C</th>\n",
       "      <th>D</th>\n",
       "    </tr>\n",
       "  </thead>\n",
       "  <tbody>\n",
       "  </tbody>\n",
       "</table>\n",
       "</div>"
      ],
      "text/plain": [
       "Empty DataFrame\n",
       "Columns: [Z, A, C, D]\n",
       "Index: []"
      ]
     },
     "execution_count": 14,
     "metadata": {},
     "output_type": "execute_result"
    }
   ],
   "source": [
    "# setelah kita mengetahui persentase dari setiap kolom pada dataframe\n",
    "# maka kita bisa minimbang2 / threshold kolom mana yg sebaiknya dihapus (toleransi)\n",
    "treeshold = len(df) * 0.9 # persentase 90 persen\n",
    "df = df.dropna(thresh=treeshold, axis='rows')\n",
    "df.head()"
   ]
  },
  {
   "cell_type": "code",
   "execution_count": null,
   "metadata": {},
   "outputs": [],
   "source": []
  }
 ],
 "metadata": {
  "kernelspec": {
   "display_name": "Python 3",
   "language": "python",
   "name": "python3"
  },
  "language_info": {
   "codemirror_mode": {
    "name": "ipython",
    "version": 3
   },
   "file_extension": ".py",
   "mimetype": "text/x-python",
   "name": "python",
   "nbconvert_exporter": "python",
   "pygments_lexer": "ipython3",
   "version": "3.7.6"
  }
 },
 "nbformat": 4,
 "nbformat_minor": 4
}
